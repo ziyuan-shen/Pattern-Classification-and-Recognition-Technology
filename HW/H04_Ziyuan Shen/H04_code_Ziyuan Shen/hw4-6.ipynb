{
 "cells": [
  {
   "cell_type": "code",
   "execution_count": 1,
   "metadata": {},
   "outputs": [],
   "source": [
    "import numpy as np\n",
    "import pandas as pd\n",
    "import matplotlib.pyplot as plt\n",
    "from sklearn.neighbors import KNeighborsClassifier\n",
    "from sklearn import metrics\n",
    "from matplotlib.colors import ListedColormap, LinearSegmentedColormap\n",
    "import math\n",
    "from tqdm import tqdm_notebook as tqdm"
   ]
  },
  {
   "cell_type": "code",
   "execution_count": 2,
   "metadata": {},
   "outputs": [],
   "source": [
    "horse_df = pd.read_csv(\"dataSetHorseshoes.csv\", names=['class','feature1','feature2'])\n",
    "key = np.arange(1,11)\n",
    "key = np.repeat(key,40)\n",
    "np.random.shuffle(key)\n",
    "horse_df['fold'] = key"
   ]
  },
  {
   "cell_type": "code",
   "execution_count": 3,
   "metadata": {},
   "outputs": [],
   "source": [
    "def trainKNN(df, k):\n",
    "    X = df[['feature1','feature2']]\n",
    "    y = df['class']\n",
    "    clf = KNeighborsClassifier(n_neighbors=k)\n",
    "    clf.fit(X, y)\n",
    "    return clf, df, k"
   ]
  },
  {
   "cell_type": "code",
   "execution_count": 4,
   "metadata": {},
   "outputs": [],
   "source": [
    "def runDLRT(train_df, test, k):\n",
    "    data0 = train_df[train_df['class']==0][['feature1','feature2']]\n",
    "    data1 = train_df[train_df['class']==1][['feature1','feature2']]\n",
    "    n0 = len(data0)\n",
    "    n1 = len(data1)\n",
    "    distance = lambda a, b: math.sqrt((a[0]-b[0]) ** 2 + (a[1]-b[1]) ** 2)\n",
    "    distance0 = np.array([distance(test,train) for i,train in data0.iterrows()])\n",
    "    distance1 = np.array([distance(test,train) for i,train in data1.iterrows()])\n",
    "    distance0 = np.sort(distance0)\n",
    "    distance1 = np.sort(distance1)\n",
    "    distance0_k = distance0[k-1]\n",
    "    distance1_k = distance1[k-1]\n",
    "    g = np.log(n0 / n1) + 2 * (np.log(distance0_k) - np.log(distance1_k))\n",
    "    if g>= 0:\n",
    "        predict = 1\n",
    "    else:\n",
    "        predict = 0\n",
    "    return g, predict"
   ]
  },
  {
   "cell_type": "code",
   "execution_count": 5,
   "metadata": {},
   "outputs": [
    {
     "data": {
      "application/vnd.jupyter.widget-view+json": {
       "model_id": "",
       "version_major": 2,
       "version_minor": 0
      },
      "text/plain": [
       "HBox(children=(IntProgress(value=0, max=40), HTML(value='')))"
      ]
     },
     "metadata": {},
     "output_type": "display_data"
    },
    {
     "name": "stdout",
     "output_type": "stream",
     "text": [
      "\r"
     ]
    },
    {
     "data": {
      "application/vnd.jupyter.widget-view+json": {
       "model_id": "",
       "version_major": 2,
       "version_minor": 0
      },
      "text/plain": [
       "HBox(children=(IntProgress(value=0, max=40), HTML(value='')))"
      ]
     },
     "metadata": {},
     "output_type": "display_data"
    },
    {
     "name": "stdout",
     "output_type": "stream",
     "text": [
      "\r"
     ]
    },
    {
     "data": {
      "application/vnd.jupyter.widget-view+json": {
       "model_id": "",
       "version_major": 2,
       "version_minor": 0
      },
      "text/plain": [
       "HBox(children=(IntProgress(value=0, max=40), HTML(value='')))"
      ]
     },
     "metadata": {},
     "output_type": "display_data"
    },
    {
     "name": "stdout",
     "output_type": "stream",
     "text": [
      "\r"
     ]
    },
    {
     "data": {
      "application/vnd.jupyter.widget-view+json": {
       "model_id": "",
       "version_major": 2,
       "version_minor": 0
      },
      "text/plain": [
       "HBox(children=(IntProgress(value=0, max=40), HTML(value='')))"
      ]
     },
     "metadata": {},
     "output_type": "display_data"
    },
    {
     "name": "stdout",
     "output_type": "stream",
     "text": [
      "\r"
     ]
    },
    {
     "data": {
      "application/vnd.jupyter.widget-view+json": {
       "model_id": "",
       "version_major": 2,
       "version_minor": 0
      },
      "text/plain": [
       "HBox(children=(IntProgress(value=0, max=40), HTML(value='')))"
      ]
     },
     "metadata": {},
     "output_type": "display_data"
    },
    {
     "name": "stdout",
     "output_type": "stream",
     "text": [
      "\r"
     ]
    },
    {
     "data": {
      "application/vnd.jupyter.widget-view+json": {
       "model_id": "",
       "version_major": 2,
       "version_minor": 0
      },
      "text/plain": [
       "HBox(children=(IntProgress(value=0, max=40), HTML(value='')))"
      ]
     },
     "metadata": {},
     "output_type": "display_data"
    },
    {
     "name": "stdout",
     "output_type": "stream",
     "text": [
      "\r"
     ]
    },
    {
     "data": {
      "application/vnd.jupyter.widget-view+json": {
       "model_id": "",
       "version_major": 2,
       "version_minor": 0
      },
      "text/plain": [
       "HBox(children=(IntProgress(value=0, max=40), HTML(value='')))"
      ]
     },
     "metadata": {},
     "output_type": "display_data"
    },
    {
     "name": "stdout",
     "output_type": "stream",
     "text": [
      "\r"
     ]
    },
    {
     "data": {
      "application/vnd.jupyter.widget-view+json": {
       "model_id": "",
       "version_major": 2,
       "version_minor": 0
      },
      "text/plain": [
       "HBox(children=(IntProgress(value=0, max=40), HTML(value='')))"
      ]
     },
     "metadata": {},
     "output_type": "display_data"
    },
    {
     "name": "stdout",
     "output_type": "stream",
     "text": [
      "\r"
     ]
    },
    {
     "data": {
      "application/vnd.jupyter.widget-view+json": {
       "model_id": "",
       "version_major": 2,
       "version_minor": 0
      },
      "text/plain": [
       "HBox(children=(IntProgress(value=0, max=40), HTML(value='')))"
      ]
     },
     "metadata": {},
     "output_type": "display_data"
    },
    {
     "name": "stdout",
     "output_type": "stream",
     "text": [
      "\r"
     ]
    },
    {
     "data": {
      "application/vnd.jupyter.widget-view+json": {
       "model_id": "",
       "version_major": 2,
       "version_minor": 0
      },
      "text/plain": [
       "HBox(children=(IntProgress(value=0, max=40), HTML(value='')))"
      ]
     },
     "metadata": {},
     "output_type": "display_data"
    },
    {
     "name": "stdout",
     "output_type": "stream",
     "text": [
      "\r"
     ]
    }
   ],
   "source": [
    "scores_ave = np.zeros(400)\n",
    "class_ave = np.zeros(400)\n",
    "for j in range(1,11):   #specify fold\n",
    "    train_df = horse_df[horse_df['fold']!=j]\n",
    "    X_test = horse_df[horse_df['fold']==j][['feature1','feature2']]\n",
    "    y_test = horse_df[horse_df['fold']==j]['class']\n",
    "    Z = np.array([runDLRT(train_df,test,3) for i,test in tqdm(X_test.iterrows(),total=len(X_test),leave=False)])\n",
    "    Z = Z[:,0]\n",
    "    scores_ave[(j-1)*40:j*40] = Z\n",
    "    class_ave[(j-1)*40:j*40] = y_test\n",
    "    \n",
    "fpr1, tpr1, thresholds1 = metrics.roc_curve(class_ave, scores_ave)"
   ]
  },
  {
   "cell_type": "code",
   "execution_count": 6,
   "metadata": {},
   "outputs": [
    {
     "data": {
      "text/plain": [
       "Text(0.5, 1.0, 'Receiver Operating Characteristic')"
      ]
     },
     "execution_count": 6,
     "metadata": {},
     "output_type": "execute_result"
    },
    {
     "data": {
      "image/png": "[encoded data removed]",
      "text/plain": [
       "<Figure size 600x600 with 1 Axes>"
      ]
     },
     "metadata": {
      "needs_background": "light"
     },
     "output_type": "display_data"
    }
   ],
   "source": [
    "scores_ave = np.zeros(400)\n",
    "class_ave = np.zeros(400)\n",
    "for j in range(1,11):   #specify fold\n",
    "    X_train = horse_df[horse_df['fold']!=j][['feature1','feature2']]\n",
    "    y_train = horse_df[horse_df['fold']!=j]['class']\n",
    "    X_test = horse_df[horse_df['fold']==j][['feature1','feature2']]\n",
    "    y_test = horse_df[horse_df['fold']==j]['class']\n",
    "    clf = KNeighborsClassifier(n_neighbors=6)\n",
    "    clf.fit(X_train,y_train)\n",
    "    scores_ave[(j-1)*40:j*40] = clf.predict_proba(X_test)[:,1]\n",
    "    class_ave[(j-1)*40:j*40] = y_test\n",
    "    \n",
    "fpr, tpr, thresholds = metrics.roc_curve(class_ave, scores_ave)\n",
    "plt.figure(figsize=(4,4),dpi=150)\n",
    "plt.plot(fpr1, tpr1,label='k=3')\n",
    "plt.plot(fpr, tpr,label='k=6')\n",
    "plt.plot([0, 1], [0, 1], linestyle='--')\n",
    "plt.xlim([-0.05, 1.0])\n",
    "plt.ylim([0.0, 1.05])\n",
    "plt.legend()\n",
    "plt.xlabel('$P_{FA}$')\n",
    "plt.ylabel('$P_D$')\n",
    "plt.title('Receiver Operating Characteristic')"
   ]
  },
  {
   "cell_type": "code",
   "execution_count": null,
   "metadata": {},
   "outputs": [],
   "source": []
  }
 ],
 "metadata": {
  "kernelspec": {
   "display_name": "Python 3",
   "language": "python",
   "name": "python3"
  },
  "language_info": {
   "codemirror_mode": {
    "name": "ipython",
    "version": 3
   },
   "file_extension": ".py",
   "mimetype": "text/x-python",
   "name": "python",
   "nbconvert_exporter": "python",
   "pygments_lexer": "ipython3",
   "version": "3.7.1"
  }
 },
 "nbformat": 4,
 "nbformat_minor": 2
}
